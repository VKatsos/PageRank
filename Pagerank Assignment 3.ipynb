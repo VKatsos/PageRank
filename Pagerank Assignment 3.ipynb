{
 "cells": [
  {
   "cell_type": "markdown",
   "metadata": {},
   "source": [
    "# Numerical Optimization with Large Scale Linear Algebra : Assignment 3 - Pagerank\n",
    "- Name : Vyronas Katsos\n",
    "- email : vyr.katsos@aueb.gr\n",
    "- MSc in Data Science (part-time)\n",
    "- p3352309"
   ]
  },
  {
   "cell_type": "markdown",
   "metadata": {},
   "source": [
    "## a - Find the vector π "
   ]
  },
  {
   "cell_type": "markdown",
   "metadata": {},
   "source": [
    "### i - Find the vector π with the Power Method"
   ]
  },
  {
   "cell_type": "markdown",
   "metadata": {},
   "source": [
    "## Import the required libraries for our tasks and assignment"
   ]
  },
  {
   "cell_type": "code",
   "execution_count": 1,
   "metadata": {},
   "outputs": [],
   "source": [
    "import numpy as np \n",
    "import pandas as pd\n",
    "import matplotlib.pyplot as plt\n",
    "\n",
    "from scipy import sparse\n",
    "from scipy.sparse import csr_matrix,csc_matrix\n",
    "from scipy.sparse.linalg import splu\n",
    "from scipy.sparse import identity, tril, triu\n",
    "from sklearn.preprocessing import MinMaxScaler\n",
    "import time\n"
   ]
  },
  {
   "cell_type": "code",
   "execution_count": 2,
   "metadata": {},
   "outputs": [],
   "source": [
    "stanweb = pd.read_csv('stanweb.dat',names=['nodes','links','probabilities'],sep='\\t',header=None)"
   ]
  },
  {
   "cell_type": "code",
   "execution_count": 3,
   "metadata": {},
   "outputs": [
    {
     "data": {
      "text/html": [
       "<div>\n",
       "<style scoped>\n",
       "    .dataframe tbody tr th:only-of-type {\n",
       "        vertical-align: middle;\n",
       "    }\n",
       "\n",
       "    .dataframe tbody tr th {\n",
       "        vertical-align: top;\n",
       "    }\n",
       "\n",
       "    .dataframe thead th {\n",
       "        text-align: right;\n",
       "    }\n",
       "</style>\n",
       "<table border=\"1\" class=\"dataframe\">\n",
       "  <thead>\n",
       "    <tr style=\"text-align: right;\">\n",
       "      <th></th>\n",
       "      <th>nodes</th>\n",
       "      <th>links</th>\n",
       "      <th>probabilities</th>\n",
       "    </tr>\n",
       "  </thead>\n",
       "  <tbody>\n",
       "    <tr>\n",
       "      <th>0</th>\n",
       "      <td>1</td>\n",
       "      <td>6548</td>\n",
       "      <td>0.500000</td>\n",
       "    </tr>\n",
       "    <tr>\n",
       "      <th>1</th>\n",
       "      <td>1</td>\n",
       "      <td>15409</td>\n",
       "      <td>0.500000</td>\n",
       "    </tr>\n",
       "    <tr>\n",
       "      <th>2</th>\n",
       "      <td>2</td>\n",
       "      <td>252915</td>\n",
       "      <td>0.032258</td>\n",
       "    </tr>\n",
       "    <tr>\n",
       "      <th>3</th>\n",
       "      <td>2</td>\n",
       "      <td>246897</td>\n",
       "      <td>0.032258</td>\n",
       "    </tr>\n",
       "    <tr>\n",
       "      <th>4</th>\n",
       "      <td>2</td>\n",
       "      <td>251658</td>\n",
       "      <td>0.032258</td>\n",
       "    </tr>\n",
       "    <tr>\n",
       "      <th>...</th>\n",
       "      <td>...</td>\n",
       "      <td>...</td>\n",
       "      <td>...</td>\n",
       "    </tr>\n",
       "    <tr>\n",
       "      <th>2382907</th>\n",
       "      <td>281903</td>\n",
       "      <td>216688</td>\n",
       "      <td>0.142857</td>\n",
       "    </tr>\n",
       "    <tr>\n",
       "      <th>2382908</th>\n",
       "      <td>281903</td>\n",
       "      <td>90591</td>\n",
       "      <td>0.142857</td>\n",
       "    </tr>\n",
       "    <tr>\n",
       "      <th>2382909</th>\n",
       "      <td>281903</td>\n",
       "      <td>94440</td>\n",
       "      <td>0.142857</td>\n",
       "    </tr>\n",
       "    <tr>\n",
       "      <th>2382910</th>\n",
       "      <td>281903</td>\n",
       "      <td>56088</td>\n",
       "      <td>0.142857</td>\n",
       "    </tr>\n",
       "    <tr>\n",
       "      <th>2382911</th>\n",
       "      <td>281903</td>\n",
       "      <td>44103</td>\n",
       "      <td>0.142857</td>\n",
       "    </tr>\n",
       "  </tbody>\n",
       "</table>\n",
       "<p>2382912 rows × 3 columns</p>\n",
       "</div>"
      ],
      "text/plain": [
       "          nodes   links  probabilities\n",
       "0             1    6548       0.500000\n",
       "1             1   15409       0.500000\n",
       "2             2  252915       0.032258\n",
       "3             2  246897       0.032258\n",
       "4             2  251658       0.032258\n",
       "...         ...     ...            ...\n",
       "2382907  281903  216688       0.142857\n",
       "2382908  281903   90591       0.142857\n",
       "2382909  281903   94440       0.142857\n",
       "2382910  281903   56088       0.142857\n",
       "2382911  281903   44103       0.142857\n",
       "\n",
       "[2382912 rows x 3 columns]"
      ]
     },
     "execution_count": 3,
     "metadata": {},
     "output_type": "execute_result"
    }
   ],
   "source": [
    "stanweb"
   ]
  },
  {
   "cell_type": "code",
   "execution_count": 4,
   "metadata": {},
   "outputs": [],
   "source": [
    "nbr_of_nodes = stanweb.nodes.max()\n",
    "row = stanweb.nodes - 1\n",
    "column = stanweb.links - 1\n",
    "probs = stanweb.probabilities\n"
   ]
  },
  {
   "cell_type": "code",
   "execution_count": 5,
   "metadata": {},
   "outputs": [],
   "source": [
    "P = csr_matrix((probs,(row,column)),shape=(nbr_of_nodes,nbr_of_nodes))"
   ]
  },
  {
   "cell_type": "code",
   "execution_count": 22,
   "metadata": {},
   "outputs": [
    {
     "data": {
      "text/plain": [
       "<281903x281903 sparse matrix of type '<class 'numpy.float64'>'\n",
       "\twith 2312497 stored elements in Compressed Sparse Row format>"
      ]
     },
     "execution_count": 22,
     "metadata": {},
     "output_type": "execute_result"
    }
   ],
   "source": [
    "P"
   ]
  },
  {
   "cell_type": "markdown",
   "metadata": {},
   "source": [
    "### PowerMethod Class\n",
    "\n",
    "#### Initialization (`__init__` method):\n",
    "1. **Inputs**:\n",
    "   - `P`: Transition matrix (PageRank matrix).\n",
    "   - `a`: Damping factor (commonly 0.85 in PageRank).\n",
    "   - `t`: Convergence tolerance.\n",
    "   - `save_x`: Boolean to determine if intermediate top and bottom rankings are saved.\n",
    "   \n",
    "2. **Process**:\n",
    "   - Dimensions of `P` (`n` x `d`) are stored.\n",
    "   - Rows in `P` that are entirely zero are identified.\n",
    "   - Vector `a_v` is created, marking nodes with zero outgoing links.\n",
    "   - Initialize `vT` and `x` with equal probability (`1/n`).\n",
    "   - Initialize lists to store errors, top, and bottom rankings.\n",
    "\n",
    "#### Iteration (`iterate` method):\n",
    "1. **Process**:\n",
    "   - Iterate up to 1500 times.\n",
    "   - In each iteration:\n",
    "     - Compute the new ranking vector `x_new`.\n",
    "     - If `save_x` is true, save the top and bottom 50 elements based on the new ranking.\n",
    "     - Calculate the error as the L1 norm between the current and new ranking vectors.\n",
    "     - Update `x` to `x_new`.\n",
    "     - If error is below the tolerance `t`, print convergence information and return results.\n",
    "   - If the method does not converge within 1500 iterations, print a message and return results.\n",
    "\n",
    "### Execution:\n",
    "1. Set parameters:\n",
    "   - `a` (damping factor) = 0.85\n",
    "   - `tolerance` (convergence tolerance) = \\(1 \\times 10^{-8}\\)\n",
    "   \n",
    "2. Create an instance of `PowerMethod` with matrix `P`.\n",
    "3. Run the `iterate` method to compute:\n",
    "   - Final ranking vector (`ranking_vector_pm`).\n",
    "   - Number of iterations until convergence (`iterations_pm`).\n",
    "   - Errors at each iteration (`errors_pm`).\n",
    "   - Top nodes during iterations (`top_rankings_pm`).\n",
    "   - Bottom nodes during iterations (`bottom_rankings_pm`).\n",
    "\n",
    "### Output:\n",
    "- **Number of iterations**: Total iterations until convergence or reaching the maximum of 1500 iterations.\n",
    "- **Errors during iterations**: List of errors showing the convergence process.\n",
    "- **Top nodes**: Indices of the top 50 nodes during each iteration.\n",
    "- **Bottom nodes**: Indices of the bottom 50 nodes during each iteration.\n",
    "\n",
    "### Conclusion:\n",
    "This implementation helps in understanding the behavior of the PageRank algorithm using the Power Method. By saving intermediate top and bottom rankings, it offers insight into how the importance of nodes evolves over iterations. The error list helps visualize the convergence process.\n",
    "\n",
    "Here is a simplified summary of the notebook content:\n",
    "\n",
    "```markdown\n",
    "### Power Method for PageRank\n",
    "\n",
    "#### Initialization\n",
    "- Set up the transition matrix `P`, damping factor `a`, and tolerance `t`.\n",
    "- Identify zero rows in `P` and create `a_v`.\n",
    "- Initialize ranking vectors `vT` and `x`.\n",
    "\n",
    "#### Iteration\n",
    "- Perform iterative updates to `x` until convergence or max iterations.\n",
    "- Save top and bottom rankings if `save_x` is True.\n",
    "- Compute error at each step and check against tolerance.\n",
    "\n",
    "#### Results\n",
    "- Print the number of iterations, errors, and top/bottom nodes rankings.\n",
    "```\n",
    "\n",
    "This notebook serves as a comprehensive tool to understand and visualize the Power Method for computing PageRank, making it useful for both learning and practical applications in network analysis."
   ]
  },
  {
   "cell_type": "code",
   "execution_count": 20,
   "metadata": {},
   "outputs": [
    {
     "name": "stdout",
     "output_type": "stream",
     "text": [
      "Method converged after 90 iterations for a=0.85\n",
      "elapsed_time: 0.0434422492980957\n",
      "Number of iterations: 90\n",
      "Errors during iterations: [0.9580917433777468, 0.49042865564339616, 0.24350274174427747, 0.1250654615878377, 0.07256763284809932, 0.04691427560994879, 0.03267975986828856, 0.023558931672574463, 0.017546597112760628, 0.013547571202484864, 0.010620120254218744, 0.008419458945010113, 0.006742978261800662, 0.005451693729242594, 0.0044256664601256485, 0.0036126546095869914, 0.0029574294786480714, 0.002431503121838405, 0.002002861518371618, 0.001654708587825422, 0.0013693972385069037, 0.0011359093501023079, 0.0009432825114341265, 0.0007847344214539231, 0.0006531646163441484, 0.0005447642422760789, 0.0004546411097473289, 0.00037997626955685066, 0.00031766950867619234, 0.0002659047715757604, 0.00022258176771094133, 0.000186518603091495, 0.0001563151841154572, 0.00013113120695208922, 0.00010999986113974278, 9.236042773717159e-05, 7.753662702064294e-05, 6.515132875273326e-05, 5.474327615837193e-05, 4.603422968040325e-05, 3.871086937362432e-05, 3.2578486683571216e-05, 2.7416062886135108e-05, 2.3091357372749262e-05, 1.944839083123492e-05, 1.638969321640862e-05, 1.380953450932432e-05, 1.164271312131763e-05, 9.814686529983592e-06, 8.278827684965265e-06, 6.9821083675625705e-06, 5.891712346751905e-06, 4.970797082679972e-06, 4.196396436912232e-06, 3.5419945854733664e-06, 2.9910610865653404e-06, 2.5256345901905806e-06, 2.1339761458234558e-06, 1.8025937765794616e-06, 1.5235357709326918e-06, 1.2872527992246913e-06, 1.0881982336118808e-06, 9.196218105761599e-07, 7.77566455177453e-07, 6.572460165425043e-07, 5.55841868808378e-07, 4.699153542288385e-07, 3.9747494088461924e-07, 3.3609830237858766e-07, 2.8433030242546136e-07, 2.4046399261810143e-07, 2.0345680611207279e-07, 1.7209055936582704e-07, 1.456253583222828e-07, 1.2319107183220505e-07, 1.0426112077393294e-07, 8.820948841457367e-08, 7.466609748005555e-08, 6.317825680207878e-08, 5.34849127444309e-08, 4.5263302484634014e-08, 3.8324051306301427e-08, 3.24385687844886e-08, 2.7469169086686222e-08, 2.3254093118241218e-08, 1.9694039018644016e-08, 1.667384135136479e-08, 1.412253246200607e-08, 1.1958085530578842e-08, 1.0129754845992003e-08, 8.578513452235437e-09]\n",
      "Top nodes: [[281903 93970 93964 ... 94001 94000 93999]\n",
      " [226411 241454 89073 ... 247241 259455 62478]\n",
      " [89073 241454 226411 ... 67503 177307 93989]\n",
      " ...\n",
      " [89073 226411 241454 ... 214128 258348 222873]\n",
      " [89073 226411 241454 ... 214128 258348 222873]\n",
      " [89073 226411 241454 ... 214128 258348 222873]]\n",
      "Bottom nodes: [[187924 187906 187905 ... 187928 187927 1]\n",
      " [23174 136645 136650 ... 136620 225782 1]\n",
      " [209716 210136 50581 ... 209910 50410 1]\n",
      " ...\n",
      " [216240 23332 100692 ... 216231 100721 1]\n",
      " [216240 23332 100692 ... 216231 100721 1]\n",
      " [216240 23332 100692 ... 216231 100721 1]]\n"
     ]
    }
   ],
   "source": [
    "class PowerMethod:\n",
    "    def __init__(self, P, a, t, save_x=True):\n",
    "        self.P = P\n",
    "        self.a = a\n",
    "        self.t = t\n",
    "        self.save_x = save_x\n",
    "        self.n, self.d = P.shape\n",
    "        \n",
    "        # Find rows with all zeros\n",
    "        zero_rows = P.sum(axis=1) == 0\n",
    "        index = np.argwhere(zero_rows)\n",
    "        \n",
    "        # Create vector a_v\n",
    "        self.a_v = np.zeros(self.n)\n",
    "        self.a_v[index[:, 0]] = 1\n",
    "        \n",
    "        # Initialize vT and x\n",
    "        self.vT = np.ones(self.d) / self.n\n",
    "        self.x = np.ones(self.d) / self.n\n",
    "        \n",
    "        # Initialize error list and top/bottom rankings\n",
    "        self.error_list = []\n",
    "        self.top = [(np.argsort(self.x.flatten()) + 1)[::-1][:50]]\n",
    "        self.bottom = [(np.argsort(self.x.flatten()) + 1)[::-1][-50:]]\n",
    "    \n",
    "    def iterate(self):\n",
    "        for i in range(1500):\n",
    "            start_time = time.time()\n",
    "            x_new = self.a * self.x * self.P + (self.a * self.x * self.a_v + (1 - self.a)) * self.vT\n",
    "            \n",
    "            if self.save_x:\n",
    "                self.top.append((np.argsort(x_new.flatten()) + 1)[::-1][:50])\n",
    "                self.bottom.append((np.argsort(x_new.flatten()) + 1)[::-1][-50:])\n",
    "            \n",
    "            error = np.linalg.norm(self.x - x_new, ord=1)\n",
    "            self.error_list.append(error)\n",
    "            self.x = x_new\n",
    "            \n",
    "            if error < self.t:\n",
    "                end_time = time.time()\n",
    "                elapsed_time = end_time - start_time\n",
    "                print(f\"Method converged after {i} iterations for a={self.a}\")\n",
    "                print(f\"elapsed_time: {elapsed_time}\")\n",
    "                return self.x.reshape(self.n, 1), i, self.error_list, np.array(self.top, dtype=object), np.array(self.bottom, dtype=object)\n",
    "        \n",
    "        print(f\"Method did not converge for a={self.a}.\")\n",
    "        return self.x.reshape(self.n, 1), i, self.error_list, np.array(self.top, dtype=object), np.array(self.bottom, dtype=object)\n",
    "\n",
    "\n",
    "a = 0.85\n",
    "tolerance = 1e-8\n",
    "\n",
    "# Create an instance of PowerMethod\n",
    "pm = PowerMethod(P, a, tolerance)\n",
    "\n",
    "# Run the power method iteration\n",
    "ranking_vector_pm, iterations_pm, errors_pm, top_rankings_pm, bottom_rankings_pm = pm.iterate()\n",
    "\n",
    "\n",
    "# Print or use the results as needed\n",
    "# print(\"Ranking vector:\", ranking_vector_pm)\n",
    "print(\"Number of iterations:\", iterations_pm)\n",
    "print(\"Errors during iterations:\", errors_pm)\n",
    "print(\"Top nodes:\", top_rankings_pm)\n",
    "print(\"Bottom nodes:\", bottom_rankings_pm)\n"
   ]
  },
  {
   "cell_type": "code",
   "execution_count": 68,
   "metadata": {},
   "outputs": [
    {
     "name": "stdout",
     "output_type": "stream",
     "text": [
      "Method converged after 90 iterations for a=0.85\n",
      "elapsed_time: 0.0430908203125\n",
      "Method converged after 90 iterations for a=0.85\n",
      "elapsed_time: 0.04291796684265137\n",
      "Method converged after 90 iterations for a=0.85\n",
      "elapsed_time: 0.043038129806518555\n",
      "Method converged after 90 iterations for a=0.85\n",
      "elapsed_time: 0.04290604591369629\n",
      "Method converged after 90 iterations for a=0.85\n",
      "elapsed_time: 0.04289102554321289\n",
      "Method converged after 90 iterations for a=0.85\n",
      "elapsed_time: 0.04317426681518555\n",
      "Method converged after 90 iterations for a=0.85\n",
      "elapsed_time: 0.04313015937805176\n",
      "Method converged after 90 iterations for a=0.85\n",
      "elapsed_time: 0.0431971549987793\n",
      "Method converged after 90 iterations for a=0.85\n",
      "elapsed_time: 0.042762041091918945\n",
      "Method converged after 90 iterations for a=0.85\n",
      "elapsed_time: 0.04388570785522461\n",
      "The avg total elapsed time for the above iteration is : 3.93s.\n"
     ]
    }
   ],
   "source": [
    "elapsed_time=0\n",
    "actual_time_approach = 10\n",
    "for i in range(actual_time_approach):\n",
    "    start_time = time.time()\n",
    "    pm = PowerMethod(P,a,tolerance)\n",
    "    ranking_vector_pm, iterations_pm, error_list_pm, top_pm, bottom_pm = pm.iterate()\n",
    "    end_time=time.time()\n",
    "    elapsed_time += end_time-start_time\n",
    "\n",
    "print(f\"The avg total elapsed time for the above iteration is : {elapsed_time/actual_time_approach:.2f}s.\")\n"
   ]
  },
  {
   "cell_type": "markdown",
   "metadata": {},
   "source": [
    "### ii - Solve the corresponding system for Pagerank"
   ]
  },
  {
   "cell_type": "markdown",
   "metadata": {},
   "source": [
    "### SystemSolver Class\n",
    "\n",
    "#### Initialization (`__init__` method):\n",
    "1. **Inputs**:\n",
    "   - `P`: Transition matrix (PageRank matrix).\n",
    "   - `a`: Damping factor (commonly 0.85 in PageRank).\n",
    "   - `t`: Convergence tolerance.\n",
    "   - `save_x`: Boolean to determine if intermediate top and bottom rankings are saved.\n",
    "   \n",
    "2. **Process**:\n",
    "   - Dimensions of `P` (`n` x `d`) are stored.\n",
    "   - Identity matrix `I` is defined.\n",
    "   - Matrix `A` is computed as \\((I - aP)^T\\).\n",
    "   - LU decomposition of the lower triangular part of `A` (`L`) and the upper triangular part (`U`).\n",
    "   - Vector `b` is initialized with equal probability (`1/n`).\n",
    "   - Initial ranking vector `x` is also set to equal probability (`1/n`).\n",
    "   - Initialize lists to store errors, top, and bottom rankings.\n",
    "\n",
    "#### Iteration (`iterate` method):\n",
    "1. **Process**:\n",
    "   - Iterate up to 1000 times.\n",
    "   - In each iteration:\n",
    "     - Compute the new ranking vector `x_new` using LU decomposition results.\n",
    "     - If `save_x` is true, save the top and bottom 50 elements based on the new ranking.\n",
    "     - Calculate the error as the L1 norm between the current and new ranking vectors.\n",
    "     - Update `x` to `x_new`.\n",
    "     - If error is below the tolerance `t`, print convergence information, normalize the ranking vector, and return results.\n",
    "   - If the method does not converge within 1000 iterations, print a message, normalize the ranking vector, and return results.\n",
    "\n",
    "### Execution:\n",
    "1. Set parameters:\n",
    "   - `a` (damping factor) = 0.85\n",
    "   - `tolerance` (convergence tolerance) = \\(1 \\times 10^{-8}\\)\n",
    "   \n",
    "2. Create an instance of `SystemSolver` with matrix `P`.\n",
    "3. Run the `iterate` method to compute:\n",
    "   - Final ranking vector (`ranking_vector_gs`).\n",
    "   - Number of iterations until convergence (`iterations_gs`).\n",
    "   - Errors at each iteration (`errors_gs`).\n",
    "   - Top nodes during iterations (`top_rankings_gs`).\n",
    "   - Bottom nodes during iterations (`bottom_rankings_gs`).\n",
    "\n",
    "### Output:\n",
    "- **Ranking vector**: Final normalized ranking vector.\n",
    "- **Number of iterations**: Total iterations until convergence or reaching the maximum of 1000 iterations.\n",
    "- **Errors during iterations**: List of errors showing the convergence process.\n",
    "- **Top nodes**: Indices of the top 50 nodes during each iteration.\n",
    "- **Bottom nodes**: Indices of the bottom 50 nodes during each iteration.\n",
    "\n",
    "### Conclusion:\n",
    "This implementation provides a method for solving the PageRank problem using LU decomposition for linear systems, which can be more efficient in certain cases compared to the Power Method. By saving intermediate top and bottom rankings, it offers insight into how the importance of nodes evolves over iterations. The error list helps visualize the convergence process.\n",
    "\n",
    "Here is a simplified summary of the notebook content:\n",
    "\n",
    "```markdown\n",
    "### System Solver for PageRank using LU Decomposition\n",
    "\n",
    "#### Initialization\n",
    "- Set up the transition matrix `P`, damping factor `a`, and tolerance `t`.\n",
    "- Define the identity matrix `I`.\n",
    "- Compute matrix `A` as \\((I - aP)^T\\).\n",
    "- Perform LU decomposition on `A`.\n",
    "- Initialize vector `b` and initial ranking vector `x`.\n",
    "\n",
    "#### Iteration\n",
    "- Perform iterative updates to `x` using LU decomposition until convergence or max iterations.\n",
    "- Save top and bottom rankings if `save_x` is True.\n",
    "- Compute error at each step and check against tolerance.\n",
    "\n",
    "#### Results\n",
    "- Print the ranking vector, number of iterations, errors, and top/bottom nodes rankings.\n",
    "```\n",
    "\n",
    "This notebook serves as a comprehensive tool to understand and visualize the PageRank computation using LU decomposition for solving linear systems, making it useful for both learning and practical applications in network analysis."
   ]
  },
  {
   "cell_type": "code",
   "execution_count": 19,
   "metadata": {},
   "outputs": [
    {
     "name": "stdout",
     "output_type": "stream",
     "text": [
      "Method converged after 61 iterations for a=0.85\n",
      "elapsed_time: 0.05318784713745117\n",
      "Ranking vector: [[5.33366164e-07]\n",
      " [1.17178186e-04]\n",
      " [8.27158869e-07]\n",
      " ...\n",
      " [5.37022303e-07]\n",
      " [1.80873736e-06]\n",
      " [1.47923201e-06]]\n",
      "Number of iterations: 61\n",
      "Errors during iterations: [1.312328368126816, 1.1546779731289343, 0.8665166015321145, 0.6324048998541215, 0.46019940034377654, 0.3345286080698669, 0.24312976509696946, 0.1766515912636346, 0.12838059247484626, 0.09330134488175008, 0.06782145701695448, 0.04930163190818083, 0.0358489751371078, 0.02606938626948686, 0.018961566735049968, 0.013793206050837213, 0.010036025253932119, 0.007302878774309306, 0.005315334667739186, 0.0038691555587621962, 0.002817087114610003, 0.002051221991246682, 0.0014939336925750327, 0.0010881727652115604, 0.0007928115286812044, 0.0005776602444326008, 0.00042101150710268574, 0.00030685560146299776, 0.00022372274091148465, 0.00016311942169047576, 0.00011897172940576163, 8.67721017510791e-05, 6.330995833189736e-05, 4.619156748552134e-05, 3.371455519064346e-05, 2.4606948062936308e-05, 1.7967066125468852e-05, 1.3118068823419386e-05, 9.582049302244407e-06, 6.998567261425499e-06, 5.114155946458593e-06, 3.736635280443295e-06, 2.731643460231028e-06, 1.99661994924328e-06, 1.4602456364872807e-06, 1.0677317415701372e-06, 7.812420918420593e-07, 5.714661662806477e-07, 4.1832550465047436e-07, 3.0612096769418654e-07, 2.2419522641230107e-07, 1.641272491110167e-07, 1.2026261962163448e-07, 8.807797443474642e-08, 6.457206916924183e-08, 4.731148064971587e-08, 3.470413343950202e-08, 2.5438574046721236e-08, 1.8670497646977262e-08, 1.369185596724404e-08, 1.0055099749483532e-08, 7.377191448506995e-09]\n",
      "Top nodes: [[281903 93970 93964 ... 94001 94000 93999]\n",
      " [226411 241454 89073 ... 186902 137632 120708]\n",
      " [226411 241454 89073 ... 151981 279368 62478]\n",
      " ...\n",
      " [89073 226411 241454 ... 214128 258348 222873]\n",
      " [89073 226411 241454 ... 214128 258348 222873]\n",
      " [89073 226411 241454 ... 214128 258348 222873]]\n",
      "Bottom  nodes: [[187924 187906 187905 ... 187928 187927 1]\n",
      " [172276 172272 31800 ... 172395 172384 1]\n",
      " [45757 45758 201546 ... 201718 201707 1]\n",
      " ...\n",
      " [216240 23332 100692 ... 216231 100721 1]\n",
      " [216240 23332 100692 ... 216231 100721 1]\n",
      " [216240 23332 100692 ... 216231 100721 1]]\n"
     ]
    }
   ],
   "source": [
    "class SystemSolver:\n",
    "    def __init__(self, P, a, t, save_x=True):\n",
    "        self.P = P\n",
    "        self.a = a\n",
    "        self.t = t\n",
    "        self.save_x = save_x\n",
    "        self.n, self.d = P.shape\n",
    "        \n",
    "        # Define identity matrix\n",
    "        self.I = identity(self.n, format='csc')\n",
    "        \n",
    "        # Define A matrix\n",
    "        self.A = (self.I - a * P).T\n",
    "        \n",
    "        # LU decomposition\n",
    "        self.L = splu(tril(self.A, 0, format='csc'))\n",
    "        self.U = triu(self.A, 1, format='csc')\n",
    "        \n",
    "        # Define b and initial x\n",
    "        self.b = np.ones(self.d) / self.n\n",
    "        self.x = np.ones(self.d) / self.n\n",
    "        \n",
    "        # Initialize error list and top/bottom rankings\n",
    "        self.error_list = []\n",
    "        self.top = [(np.argsort(self.x.flatten()) + 1)[::-1][:50]]\n",
    "        self.bottom = [(np.argsort(self.x.flatten()) + 1)[::-1][-50:]]\n",
    "    \n",
    "    def iterate(self):\n",
    "        for i in range(1000):\n",
    "            start_time = time.time()\n",
    "            x_new = self.L.solve(self.b - self.U @ self.x)\n",
    "            \n",
    "            if self.save_x:\n",
    "                self.top.append((np.argsort(x_new.flatten()) + 1)[::-1][:50])\n",
    "                self.bottom.append((np.argsort(x_new.flatten()) + 1)[::-1][-50:])\n",
    "            \n",
    "            error = np.linalg.norm(self.x - x_new, ord=1)\n",
    "            self.error_list.append(error)\n",
    "            self.x = x_new\n",
    "            \n",
    "            if error < self.t:\n",
    "                end_time = time.time()\n",
    "                elapsed_time = end_time-start_time\n",
    "                print(f\"Method converged after {i} iterations for a={self.a}\")\n",
    "                print(f\"elapsed_time: {elapsed_time}\")\n",
    "                x_new_normalized = x_new / np.sum(x_new)\n",
    "                return x_new_normalized.reshape(self.n, 1), i, self.error_list, np.array(self.top, dtype=object), np.array(self.bottom, dtype=object)\n",
    "        \n",
    "        print(f\"Method did not converge for a={self.a}.\")\n",
    "        x_new_normalized = x_new / np.sum(x_new)\n",
    "        return x_new_normalized.reshape(self.n, 1), i, self.error_list, np.array(self.top, dtype=object), np.array(self.bottom, dtype=object)\n",
    "\n",
    "a = 0.85\n",
    "tolerance = 1e-8\n",
    "\n",
    "# Create an instance of SystemSolver\n",
    "ss = SystemSolver(P, a, tolerance)\n",
    "\n",
    "# Run the system solver iteration\n",
    "ranking_vector_gs, iterations_gs, errors_gs, top_rankings_gs, bottom_rankings_gs = ss.iterate()\n",
    "\n",
    "# Print or use the results as needed\n",
    "print(\"Ranking vector:\", ranking_vector_gs)\n",
    "print(\"Number of iterations:\", iterations_gs)\n",
    "print(\"Errors during iterations:\", errors_gs)\n",
    "print(\"Top nodes:\", top_rankings_gs)\n",
    "print(\"Bottom  nodes:\", bottom_rankings_gs)\n"
   ]
  },
  {
   "cell_type": "code",
   "execution_count": 71,
   "metadata": {},
   "outputs": [
    {
     "name": "stdout",
     "output_type": "stream",
     "text": [
      "Method converged after 61 iterations for a=0.85\n",
      "elapsed_time: 0.05275082588195801\n",
      "Method converged after 61 iterations for a=0.85\n",
      "elapsed_time: 0.0523219108581543\n",
      "Method converged after 61 iterations for a=0.85\n",
      "elapsed_time: 0.05396318435668945\n",
      "Method converged after 61 iterations for a=0.85\n",
      "elapsed_time: 0.052641868591308594\n",
      "Method converged after 61 iterations for a=0.85\n",
      "elapsed_time: 0.05224323272705078\n",
      "Method converged after 61 iterations for a=0.85\n",
      "elapsed_time: 0.052506208419799805\n",
      "Method converged after 61 iterations for a=0.85\n",
      "elapsed_time: 0.0526890754699707\n",
      "Method converged after 61 iterations for a=0.85\n",
      "elapsed_time: 0.05212974548339844\n",
      "Method converged after 61 iterations for a=0.85\n",
      "elapsed_time: 0.0525057315826416\n",
      "Method converged after 61 iterations for a=0.85\n",
      "elapsed_time: 0.053642988204956055\n",
      "The avg total elapsed time for the above iteration is: 3.71s.\n"
     ]
    }
   ],
   "source": [
    "actual_time_approach = 10\n",
    "elapsed_time = 0\n",
    "\n",
    "for i in range(actual_time_approach):\n",
    "    start_time = time.time()\n",
    "\n",
    "    markov_matrix = SystemSolver(P,a,tolerance)\n",
    "    ranking_vector_gs, iterations_gs, error_list_gs, top_gs, bottom_gs = markov_matrix.iterate()\n",
    "\n",
    "    end_time = time.time()\n",
    "    elapsed_time += end_time - start_time\n",
    "\n",
    "print(f\"The avg total elapsed time for the above iteration is: {elapsed_time / actual_time_approach:.2f}s.\")"
   ]
  },
  {
   "cell_type": "markdown",
   "metadata": {},
   "source": [
    "#### Interpretation of the results below \n",
    "\n",
    "From these results, we can observe that:\n",
    "\n",
    "- Both methods (Power Method and Gauss-Seidel) generally produce similar rankings, as the top items in both columns correspond to the same identifiers.\n",
    "- Gauss-Seidel tends to yield slightly higher probabilities for the top-ranked items compared to the Power Method. This suggests that the convergence behavior or the specifics of the iterative method (Gauss-Seidel) result in slightly adjusted probabilities for the top-ranked items.\n",
    "- The differences between the probabilities are relatively small (in the order of thousandths), indicating that both methods are generally consistent in their ranking outputs but may diverge slightly in the exact probabilities assigned to each item.\n",
    "\n",
    "In summary, these results provide insights into how different iterative methods (Power Method vs. Gauss-Seidel) compute ranking probabilities, with Gauss-Seidel potentially refining the probabilities slightly compared to the Power Method.\n",
    "\n",
    "As for the fastest method in terms of errors we can say that :\n",
    "\n",
    "##### Convergence Rates:\n",
    "\n",
    "1. **Iterations**: The Power Method took 90 iterations to converge, while the Gauss-Seidel Method converged faster in 61 iterations. This indicates that Gauss-Seidel converged quicker to a solution compared to the Power Method for the specific problem and parameters used.\n",
    "\n",
    "2. **Implications**: The faster convergence of Gauss-Seidel can be attributed to its iterative nature, where each iteration incorporates more up-to-date information from the previous iteration compared to the Power Method. This iterative refinement often leads to quicker convergence in many practical scenarios.\n",
    "\n",
    "##### Performance Considerations:\n",
    "\n",
    "1. **Time Efficiency**: Despite the slower convergence in terms of iterations, the Power Method exhibited better overall performance in terms of time. This suggests that while Gauss-Seidel converged faster in terms of iterations, the actual computational time taken by the Power Method was less.\n",
    "\n",
    "2. **Implementation Details**: The superior time performance of the Power Method could be due to specific implementation optimizations or characteristics of the problem matrix `P`. For instance, the Power Method may benefit from sparse matrix operations or other efficiencies that reduce computational overhead compared to the more complex LU decomposition and iterative solving steps of Gauss-Seidel.\n",
    "\n",
    "##### Potential Improvements:\n",
    "\n",
    "1. **Matrix `P` Enhancements**: As suggested in the paper, optimizations can be applied to improve the performance of both methods. Enhancements to the structure or properties of matrix `P`, such as sparsity patterns, preconditioning techniques, or algorithmic refinements, can potentially accelerate convergence and improve overall efficiency for both the Power Method and Gauss-Seidel Method.\n",
    "\n",
    "2. **Algorithmic Adjustments**: Each method has its strengths and weaknesses depending on the characteristics of the problem. Exploring hybrid methods or adaptations that combine the strengths of both the Power Method (for efficiency) and Gauss-Seidel (for faster convergence) could further enhance performance in practical applications.\n",
    "\n",
    "##### Conclusion:\n",
    "\n",
    "In summary, while the Power Method showed slower convergence in terms of iterations compared to the Gauss-Seidel Method, it demonstrated superior time performance overall. This highlights the trade-offs between convergence rates and computational efficiency in iterative methods for solving ranking problems or linear systems. The analysis suggests that further optimizations and enhancements tailored to the properties of matrix `P` can lead to significant improvements in performance for both methods, aligning with the findings and suggestions in the referenced paper."
   ]
  },
  {
   "cell_type": "code",
   "execution_count": 8,
   "metadata": {},
   "outputs": [
    {
     "data": {
      "text/html": [
       "<div>\n",
       "<style scoped>\n",
       "    .dataframe tbody tr th:only-of-type {\n",
       "        vertical-align: middle;\n",
       "    }\n",
       "\n",
       "    .dataframe tbody tr th {\n",
       "        vertical-align: top;\n",
       "    }\n",
       "\n",
       "    .dataframe thead th {\n",
       "        text-align: right;\n",
       "    }\n",
       "</style>\n",
       "<table border=\"1\" class=\"dataframe\">\n",
       "  <thead>\n",
       "    <tr style=\"text-align: right;\">\n",
       "      <th></th>\n",
       "      <th>Power Method Prob</th>\n",
       "      <th>Gauss Seidel Prob</th>\n",
       "    </tr>\n",
       "  </thead>\n",
       "  <tbody>\n",
       "    <tr>\n",
       "      <th>89073</th>\n",
       "      <td>0.011276</td>\n",
       "      <td>0.011303</td>\n",
       "    </tr>\n",
       "    <tr>\n",
       "      <th>226411</th>\n",
       "      <td>0.009266</td>\n",
       "      <td>0.009288</td>\n",
       "    </tr>\n",
       "    <tr>\n",
       "      <th>241454</th>\n",
       "      <td>0.008278</td>\n",
       "      <td>0.008297</td>\n",
       "    </tr>\n",
       "    <tr>\n",
       "      <th>262860</th>\n",
       "      <td>0.003016</td>\n",
       "      <td>0.003023</td>\n",
       "    </tr>\n",
       "    <tr>\n",
       "      <th>134832</th>\n",
       "      <td>0.002994</td>\n",
       "      <td>0.003001</td>\n",
       "    </tr>\n",
       "  </tbody>\n",
       "</table>\n",
       "</div>"
      ],
      "text/plain": [
       "        Power Method Prob  Gauss Seidel Prob\n",
       "89073            0.011276           0.011303\n",
       "226411           0.009266           0.009288\n",
       "241454           0.008278           0.008297\n",
       "262860           0.003016           0.003023\n",
       "134832           0.002994           0.003001"
      ]
     },
     "execution_count": 8,
     "metadata": {},
     "output_type": "execute_result"
    }
   ],
   "source": [
    "results = pd.DataFrame({'Power Method Prob':ranking_vector_pm[:,0],'Gauss Seidel Prob':ranking_vector_gs[:,0]})\n",
    "results=results.sort_values(by=['Power Method Prob'], ascending = False)\n",
    "results.index = results.index + 1\n",
    "results.head()"
   ]
  },
  {
   "cell_type": "code",
   "execution_count": 10,
   "metadata": {},
   "outputs": [
    {
     "data": {
      "image/png": "[encoded data removed]",
      "text/plain": [
       "<Figure size 640x480 with 1 Axes>"
      ]
     },
     "metadata": {},
     "output_type": "display_data"
    }
   ],
   "source": [
    "plt.plot(errors_pm, label = 'Power Method')\n",
    "plt.plot(errors_gs, label = 'Gauss-Siedel method')\n",
    "\n",
    "\n",
    "plt.title('Error vs iterations for the two methods of PageRank for $\\\\alpha = 0.85$.')\n",
    "plt.legend()\n",
    "plt.grid()\n",
    "plt.show()"
   ]
  },
  {
   "cell_type": "markdown",
   "metadata": {},
   "source": [
    "## b - do the previous task with α = 0.99. Your remarks on the convergence speed. Did the ranking of the first 50 nodes changed?"
   ]
  },
  {
   "cell_type": "markdown",
   "metadata": {},
   "source": [
    "### Interpretation of the results below (Your remarks on the convergence speed)\n",
    "\n",
    "#### Power Method (a = 0.99)\n",
    "\n",
    "- **Convergence**: The Power Method converged after 1391 iterations for `a = 0.99`.\n",
    "- **Elapsed Time**: The elapsed time for the Power Method was approximately 0.044 seconds.\n",
    "- **Iteration Analysis**: The Power Method took more iterations compared to its performance with smaller `a` (e.g., `a = 0.85`). This is expected because as `a` approaches 1, the influence of the damping factor decreases, slowing down convergence.\n",
    "- **Error vs. Iteration**: Typically, the error decreases logarithmically as the number of iterations increases, showing a gradual convergence towards the tolerance level.\n",
    "\n",
    "#### Gauss-Seidel Method (a = 0.99)\n",
    "\n",
    "- **Convergence**: The Gauss-Seidel Method converged after 967 iterations for `a = 0.99`.\n",
    "- **Elapsed Time**: The elapsed time for Gauss-Seidel was approximately 0.054 seconds.\n",
    "- **Iteration Analysis**: Gauss-Seidel converged faster than the Power Method for the same value of `a = 0.99`. This is consistent with its iterative nature, which often provides faster convergence compared to matrix-based methods like the Power Method.\n",
    "- **Error vs. Iteration**: Gauss-Seidel typically shows a faster reduction in error compared to the Power Method due to its iterative refinement approach. The error plot may show a more linear or steeper decrease initially, followed by a gradual tailing off as convergence nears.\n",
    "\n",
    "#### Error vs. Iteration Plots Comparison\n",
    "\n",
    "- **Power Method**: The error vs. iteration plot for the Power Method with `a = 0.99` will show a gradual decrease in error over the iterations, demonstrating the logarithmic convergence pattern typical of power iteration methods.\n",
    "  \n",
    "- **Gauss-Seidel Method**: The error vs. iteration plot for Gauss-Seidel with `a = 0.99` will exhibit a more rapid initial reduction in error, reflecting the faster convergence rate inherent in iterative methods, especially when `a` is close to 1.\n",
    "\n",
    "### Interpretation\n",
    "\n",
    "- **Method Comparison**: Gauss-Seidel Method demonstrated both faster convergence (967 iterations vs. 1391 iterations) and slightly longer computational time (0.054 seconds vs. 0.044 seconds) compared to the Power Method for `a = 0.99`.\n",
    "  \n",
    "- **Efficiency Considerations**: Despite the fewer iterations, Gauss-Seidel's iterative nature may introduce slightly more computational overhead per iteration, resulting in a marginally longer total computation time compared to the Power Method.\n",
    "  \n",
    "- **Practical Considerations**: Choosing between these methods would depend on specific application requirements, including the desired trade-off between computational efficiency (time) and convergence speed. Gauss-Seidel may be preferable for applications where faster convergence is critical, while the Power Method might be more suitable when computational time is the primary concern and a larger number of iterations is acceptable.\n",
    "\n",
    "In summary, these results illustrate how changing the damping factor `a` to 0.99 affects both the convergence behavior and computational performance of the Power Method and Gauss-Seidel Method, highlighting their respective strengths and performance characteristics under different settings. \n",
    "\n"
   ]
  },
  {
   "cell_type": "code",
   "execution_count": 11,
   "metadata": {},
   "outputs": [
    {
     "name": "stdout",
     "output_type": "stream",
     "text": [
      "Method converged after 1391 iterations for a=0.99\n",
      "elapsed_time: 0.044905900955200195\n"
     ]
    }
   ],
   "source": [
    "a = 0.99\n",
    "tolerance = 1e-8\n",
    "\n",
    "# Create an instance of SystemSolver\n",
    "pm_1 = PowerMethod(P, a, tolerance)\n",
    "\n",
    "# Run the system solver iteration\n",
    "ranking_vector_pm_1, iterations_pm_1, errors_pm_1, top_rankings_pm_1, bottom_rankings_pm_1 = pm_1.iterate()"
   ]
  },
  {
   "cell_type": "code",
   "execution_count": 12,
   "metadata": {},
   "outputs": [
    {
     "name": "stdout",
     "output_type": "stream",
     "text": [
      "Method converged after 967 iterations for a=0.99\n",
      "elapsed_time: 0.05364704132080078\n"
     ]
    }
   ],
   "source": [
    "a = 0.99\n",
    "tolerance = 1e-8\n",
    "\n",
    "# Create an instance of SystemSolver\n",
    "ss_1 = SystemSolver(P, a, tolerance)\n",
    "\n",
    "# Run the system solver iteration\n",
    "ranking_vector_gs_1, iterations_gs_1, errors_gs_1, top_rankings_gs_1, bottom_rankings_gs_1 = ss_1.iterate()"
   ]
  },
  {
   "cell_type": "code",
   "execution_count": 13,
   "metadata": {},
   "outputs": [
    {
     "data": {
      "image/png": "[encoded data removed]",
      "text/plain": [
       "<Figure size 640x480 with 1 Axes>"
      ]
     },
     "metadata": {},
     "output_type": "display_data"
    }
   ],
   "source": [
    "plt.plot(errors_pm_1, label = 'Power Method')\n",
    "plt.plot(errors_gs_1, label = 'Gauss-Siedell method')\n",
    "\n",
    "\n",
    "plt.title('Error vs iterations for the two methods of PageRank for $\\\\alpha = 0.99$.')\n",
    "plt.legend()\n",
    "plt.grid()\n",
    "plt.show()"
   ]
  },
  {
   "cell_type": "markdown",
   "metadata": {},
   "source": [
    "### Did the ranking of the first 50 nodes changed ?\n",
    "\n",
    "Based on this Dataframe below , the rankings of the first 50 nodes generally remain consistent across different methods (`Power Method` vs `Gauss Seidel`) and damping factors (`a = 0.85` vs `a = 0.99`). However, there are occasional changes in ranking order, particularly for certain nodes, highlighting the importance of method selection and parameter tuning in achieving stable and reliable results in iterative ranking algorithms."
   ]
  },
  {
   "cell_type": "code",
   "execution_count": 14,
   "metadata": {},
   "outputs": [],
   "source": [
    "def give_me_first_50(x,display=True):\n",
    "    \"\"\"\n",
    "    Function that prints and returns the ranking of the 50 first nodes given a vector.\n",
    "    \"\"\"\n",
    "    first = (np.argsort(x.flatten())+1)[::-1][:50]\n",
    "    if display:\n",
    "        print(first)\n",
    "    return first"
   ]
  },
  {
   "cell_type": "code",
   "execution_count": 15,
   "metadata": {},
   "outputs": [
    {
     "data": {
      "text/html": [
       "<div>\n",
       "<style scoped>\n",
       "    .dataframe tbody tr th:only-of-type {\n",
       "        vertical-align: middle;\n",
       "    }\n",
       "\n",
       "    .dataframe tbody tr th {\n",
       "        vertical-align: top;\n",
       "    }\n",
       "\n",
       "    .dataframe thead th {\n",
       "        text-align: right;\n",
       "    }\n",
       "</style>\n",
       "<table border=\"1\" class=\"dataframe\">\n",
       "  <thead>\n",
       "    <tr style=\"text-align: right;\">\n",
       "      <th></th>\n",
       "      <th>Power Method a=0.85</th>\n",
       "      <th>Gauss Seidel a=0.85</th>\n",
       "      <th>Power Method a=0.99</th>\n",
       "      <th>Gauss Seidel a=0.99</th>\n",
       "    </tr>\n",
       "  </thead>\n",
       "  <tbody>\n",
       "    <tr>\n",
       "      <th>1</th>\n",
       "      <td>89073</td>\n",
       "      <td>89073</td>\n",
       "      <td>89073</td>\n",
       "      <td>89073</td>\n",
       "    </tr>\n",
       "    <tr>\n",
       "      <th>2</th>\n",
       "      <td>226411</td>\n",
       "      <td>226411</td>\n",
       "      <td>281772</td>\n",
       "      <td>281772</td>\n",
       "    </tr>\n",
       "    <tr>\n",
       "      <th>3</th>\n",
       "      <td>241454</td>\n",
       "      <td>241454</td>\n",
       "      <td>174665</td>\n",
       "      <td>174665</td>\n",
       "    </tr>\n",
       "    <tr>\n",
       "      <th>4</th>\n",
       "      <td>262860</td>\n",
       "      <td>262860</td>\n",
       "      <td>226411</td>\n",
       "      <td>226411</td>\n",
       "    </tr>\n",
       "    <tr>\n",
       "      <th>5</th>\n",
       "      <td>134832</td>\n",
       "      <td>134832</td>\n",
       "      <td>179645</td>\n",
       "      <td>179645</td>\n",
       "    </tr>\n",
       "    <tr>\n",
       "      <th>6</th>\n",
       "      <td>234704</td>\n",
       "      <td>234704</td>\n",
       "      <td>271409</td>\n",
       "      <td>271409</td>\n",
       "    </tr>\n",
       "    <tr>\n",
       "      <th>7</th>\n",
       "      <td>136821</td>\n",
       "      <td>136821</td>\n",
       "      <td>262860</td>\n",
       "      <td>262860</td>\n",
       "    </tr>\n",
       "    <tr>\n",
       "      <th>8</th>\n",
       "      <td>68889</td>\n",
       "      <td>68889</td>\n",
       "      <td>136821</td>\n",
       "      <td>136821</td>\n",
       "    </tr>\n",
       "    <tr>\n",
       "      <th>9</th>\n",
       "      <td>105607</td>\n",
       "      <td>105607</td>\n",
       "      <td>68889</td>\n",
       "      <td>68889</td>\n",
       "    </tr>\n",
       "    <tr>\n",
       "      <th>10</th>\n",
       "      <td>69358</td>\n",
       "      <td>69358</td>\n",
       "      <td>77988</td>\n",
       "      <td>77988</td>\n",
       "    </tr>\n",
       "    <tr>\n",
       "      <th>11</th>\n",
       "      <td>67756</td>\n",
       "      <td>67756</td>\n",
       "      <td>116530</td>\n",
       "      <td>116530</td>\n",
       "    </tr>\n",
       "    <tr>\n",
       "      <th>12</th>\n",
       "      <td>225872</td>\n",
       "      <td>225872</td>\n",
       "      <td>272442</td>\n",
       "      <td>272442</td>\n",
       "    </tr>\n",
       "    <tr>\n",
       "      <th>13</th>\n",
       "      <td>186750</td>\n",
       "      <td>186750</td>\n",
       "      <td>95163</td>\n",
       "      <td>251796</td>\n",
       "    </tr>\n",
       "    <tr>\n",
       "      <th>14</th>\n",
       "      <td>251796</td>\n",
       "      <td>272442</td>\n",
       "      <td>251796</td>\n",
       "      <td>95163</td>\n",
       "    </tr>\n",
       "    <tr>\n",
       "      <th>15</th>\n",
       "      <td>272442</td>\n",
       "      <td>251796</td>\n",
       "      <td>65580</td>\n",
       "      <td>65580</td>\n",
       "    </tr>\n",
       "  </tbody>\n",
       "</table>\n",
       "</div>"
      ],
      "text/plain": [
       "    Power Method a=0.85  Gauss Seidel a=0.85  Power Method a=0.99  \\\n",
       "1                 89073                89073                89073   \n",
       "2                226411               226411               281772   \n",
       "3                241454               241454               174665   \n",
       "4                262860               262860               226411   \n",
       "5                134832               134832               179645   \n",
       "6                234704               234704               271409   \n",
       "7                136821               136821               262860   \n",
       "8                 68889                68889               136821   \n",
       "9                105607               105607                68889   \n",
       "10                69358                69358                77988   \n",
       "11                67756                67756               116530   \n",
       "12               225872               225872               272442   \n",
       "13               186750               186750                95163   \n",
       "14               251796               272442               251796   \n",
       "15               272442               251796                65580   \n",
       "\n",
       "    Gauss Seidel a=0.99  \n",
       "1                 89073  \n",
       "2                281772  \n",
       "3                174665  \n",
       "4                226411  \n",
       "5                179645  \n",
       "6                271409  \n",
       "7                262860  \n",
       "8                136821  \n",
       "9                 68889  \n",
       "10                77988  \n",
       "11               116530  \n",
       "12               272442  \n",
       "13               251796  \n",
       "14                95163  \n",
       "15                65580  "
      ]
     },
     "execution_count": 15,
     "metadata": {},
     "output_type": "execute_result"
    }
   ],
   "source": [
    "df = pd.DataFrame({'Power Method a=0.85':give_me_first_50(ranking_vector_pm,False),'Gauss Seidel a=0.85':give_me_first_50(ranking_vector_gs,False), \n",
    "                'Power Method a=0.99':give_me_first_50(ranking_vector_pm_1,False),'Gauss Seidel a=0.99':give_me_first_50(ranking_vector_gs_1,False)})\n",
    "df.index += 1\n",
    "df.head(15)"
   ]
  },
  {
   "cell_type": "markdown",
   "metadata": {},
   "source": [
    "## c - When we use the power method do all the components of π converge at the same speed to their limits? If not which of the converge faster: those that correspond to important nodes or to non important ? Do you observe the same behavior when you find π through the solution of the linear system?"
   ]
  },
  {
   "cell_type": "markdown",
   "metadata": {},
   "source": [
    "### Analysis of Convergence Behavior:\n",
    "\n",
    "1. **Methodology**:\n",
    "   - **Data Selection**: We selected the Top and Bottom 50 pages based on their index for all iterations of both methods.\n",
    "   - **Average Value Calculation**: The average value calculated for each iteration represents the mean convergence behavior of these selected pages. While this average value lacks physical interpretation, it serves to indicate the overall convergence pattern across iterations.\n",
    "\n",
    "2. **Observations**:\n",
    "   - **Fast Convergence of Top Pages**: In both methods, the top ranked pages show a rapid convergence. This is evident from the quick stabilization of the average value curve for the top 50 pages, indicating that these pages converge to their stable states early in the iterative process.\n",
    "   \n",
    "   - **Fluctuation of Bottom Pages**: Conversely, the bottom ranked pages exhibit significant fluctuation in convergence behavior. This is shown by the slower stabilization of the average value curve for the bottom 50 pages. This fluctuation suggests that these pages take longer to converge or may not converge as smoothly as the top ranked pages.\n",
    "   \n",
    "   - **Similar Convergence Time for Bottom Pages**: Despite the fluctuation, an interesting observation is that the bottom 50 pages converge around the same time across both methods. This suggests a consistent convergence behavior among the bottom ranked pages, regardless of the specific method used. The convergence time for these pages is likely influenced by factors different from those affecting the top ranked pages.\n",
    "\n",
    "3. **Middle Pages Influence**:\n",
    "   - **Role of Middle Pages**: The remaining iterations, where the convergence is not as clear for both top and bottom ranked pages, indicate the influence of the \"middle\" pages. These pages likely contribute to the extended iterations needed for overall convergence. Understanding the convergence patterns of these middle pages could provide insights into optimizing the methods or strategies used.\n",
    "\n",
    "4. **Implications**:\n",
    "   - **Optimization Insights**: Based on these findings, strategies could be refined to potentially prioritize or handle the convergence of middle ranked pages differently. This could lead to improved overall convergence rates or stability in methods applied to ranking or analyzing pages.\n",
    "   \n",
    "   - **Further Analysis**: Future research could delve deeper into the specific characteristics or properties of middle ranked pages that influence convergence. This could involve examining factors such as content relevance, link structures, or user engagement metrics that impact the convergence behavior observed.\n",
    "\n",
    "By analyzing the convergence behavior in this structured manner, we gain a clearer understanding of how different ranking methods affect the convergence of top vs bottom ranked pages, and how the behavior of middle ranked pages plays a critical role in the overall iterative process."
   ]
  },
  {
   "cell_type": "code",
   "execution_count": 17,
   "metadata": {},
   "outputs": [
    {
     "data": {
      "image/png": "[encoded data removed]",
      "text/plain": [
       "<Figure size 1000x700 with 2 Axes>"
      ]
     },
     "metadata": {},
     "output_type": "display_data"
    }
   ],
   "source": [
    "scaler = MinMaxScaler()\n",
    "\n",
    "fig, ax = plt.subplots(2, 1, figsize=(10,7))\n",
    "\n",
    "# Power Method\n",
    "top_1_scaled = scaler.fit_transform(top_rankings_pm.mean(axis=1).reshape(-1,1))\n",
    "bottom_1_scaled = scaler.fit_transform(bottom_rankings_pm.mean(axis=1).reshape(-1,1))\n",
    "ax[0].plot(top_1_scaled, c='blue', label='Top Ranked (Power Method)', linestyle='-', linewidth=2)\n",
    "ax[0].plot(bottom_1_scaled, c='red', label='Bottom Ranked (Power Method)', linestyle='--', linewidth=2)\n",
    "ax[0].set_title('Power Method', fontsize=14)\n",
    "ax[0].legend(fontsize=10)\n",
    "ax[0].grid(True)\n",
    "\n",
    "# Linear System Method\n",
    "top_2_scaled = scaler.fit_transform(top_rankings_gs.mean(axis=1).reshape(-1,1))\n",
    "bottom_2_scaled = scaler.fit_transform(bottom_rankings_gs.mean(axis=1).reshape(-1,1))\n",
    "ax[1].plot(top_2_scaled, c='green', label='Top Ranked (Linear System)', linestyle='-', linewidth=2)\n",
    "ax[1].plot(bottom_2_scaled, c='orange', label='Bottom Ranked (Linear System)', linestyle='--', linewidth=2)\n",
    "ax[1].set_title('Linear System Method', fontsize=14)\n",
    "ax[1].set_xlabel('Number of iterations', fontsize=12)\n",
    "ax[1].set_xlim(0, top_1_scaled.shape[0])\n",
    "ax[1].legend(fontsize=14)\n",
    "ax[1].grid(True)\n",
    "\n",
    "fig.suptitle(\"Convergence Rate of Top vs Bottom Ranked Pages with ($\\\\alpha$ = 0.85)\", fontsize=15)\n",
    "plt.tight_layout()\n",
    "plt.show()\n"
   ]
  },
  {
   "cell_type": "code",
   "execution_count": 21,
   "metadata": {},
   "outputs": [
    {
     "data": {
      "image/png": "[encoded data removed]",
      "text/plain": [
       "<Figure size 1000x700 with 2 Axes>"
      ]
     },
     "metadata": {},
     "output_type": "display_data"
    }
   ],
   "source": [
    "# Calculate convergence rates (mean per iteration)\n",
    "top_1_mean = np.mean(top_pm, axis=1)\n",
    "bottom_1_mean = np.mean(bottom_pm, axis=1)\n",
    "top_2_mean = np.mean(top_gs, axis=1)\n",
    "bottom_2_mean = np.mean(bottom_gs, axis=1)\n",
    "\n",
    "# Plotting box plots\n",
    "fig, ax = plt.subplots(2, 1, figsize=(10, 7))\n",
    "\n",
    "# Power Method\n",
    "ax[0].boxplot([top_1_mean, bottom_1_mean], labels=['Top Ranked', 'Bottom Ranked'], patch_artist=True,\n",
    "              boxprops=dict(facecolor='lightblue'))\n",
    "ax[0].set_title('Power Method - Convergence Rates', fontsize=14)\n",
    "ax[0].set_ylabel('Convergence Rate', fontsize=12)\n",
    "ax[0].grid(True)\n",
    "\n",
    "# Linear System Method\n",
    "ax[1].boxplot([top_2_mean, bottom_2_mean], labels=['Top Ranked', 'Bottom Ranked'], patch_artist=True,\n",
    "              boxprops=dict(facecolor='lightgreen'))\n",
    "ax[1].set_title('Linear System Method - Convergence Rates', fontsize=14)\n",
    "ax[1].set_ylabel('Convergence Rate', fontsize=12)\n",
    "ax[1].set_xlabel('Ranking', fontsize=12)\n",
    "ax[1].grid(True)\n",
    "\n",
    "fig.suptitle(\"Comparison of Convergence Rates with ($\\\\alpha$ = 0.85)(Power Method vs Linear System Method)\", fontsize=16)\n",
    "plt.tight_layout()\n",
    "plt.show()\n"
   ]
  },
  {
   "cell_type": "markdown",
   "metadata": {},
   "source": [
    "## Second Task - section about Pagerank Assignment\n",
    "- A typical way to raise the PageRank of a page is to use ?link farms?, i.e., a\n",
    "collection of ?fake? pages that point to yours in order to improve its PageRank. \n",
    "- Our goal in this problem is to do a little analysis of the design of link farms, and how their\n",
    "structure affects the PageRank calculations. Consider the web graph. \n",
    "- It contains n pages, labeled 1 through n: Of course, n is very large. As mentioned in, we use the\n",
    "notation G = αP + 1−α I for the transition matrix. Let πi denote the PageRank of n\n",
    "page i and π = (π1,π2,...πn) denote the vector of PageRanks of all pages.\n",
    "* Note: For a page that has k outgoing links, we put 1 = k for the corresponding entries of P: However, when a webpage has no outgoing links, we add a 1 as the corresponding diagonal element of P for making its row-sum one. Note that this makes G a valid transition probability matrix."
   ]
  },
  {
   "cell_type": "markdown",
   "metadata": {},
   "source": [
    "## a - Create a new page X"
   ]
  },
  {
   "cell_type": "markdown",
   "metadata": {},
   "source": [
    "### Methodology :\n",
    "\n",
    "The methodology revolves around constructing a transition probability matrix \\( P \\) based on a DataFrame that describes nodes and their links with associated probabilities. This matrix is typically used in various fields, including network analysis and Markov chains, where it represents the likelihood of transitioning from one node (or state) to another.\n",
    "\n",
    "\n",
    "#### More specifically:\n",
    "\n",
    "1. **Initialization (`__init__` method)**:\n",
    "   - The class `TransitionMatrixCreator` is initialized with a DataFrame (`df`) that contains information about nodes, links, and probabilities.\n",
    "   - The `_prepare_data` method is called during initialization to convert 'Node' and 'Link' columns to integers and adjust for zero-based indexing, ensuring compatibility with Python's indexing conventions.\n",
    "\n",
    "2. **Creating the Matrix (`create_matrix` method)**:\n",
    "   - This method constructs a sparse CSR matrix (`P`) using `csr_matrix` from `scipy.sparse`.\n",
    "   - It uses the adjusted row indices (`row_indices`) and column indices (`col_indices`) along with probabilities (`probabilities`) from the DataFrame to populate the matrix.\n",
    "   - The matrix shape (`shape=(self.n, self.n)`) is determined by the maximum node value (`self.n`), ensuring the matrix is correctly sized based on the node indices present in the DataFrame.\n",
    "\n",
    "3. **Usage**:\n",
    "   - An example DataFrame `data` is provided to demonstrate how the class is instantiated and used to create the transition matrix `P_matrix`.\n",
    "   - This matrix `P_matrix` represents the probabilities of transitioning from one node (or state) to another, encapsulating the network structure and dynamics described by the original DataFrame.\n",
    "\n",
    "By encapsulating the matrix creation process within a class, the code becomes modular, reusable, and easier to manage. This approach also enhances clarity and maintains data integrity by ensuring that operations on the DataFrame (`df`) are contained within the class instance."
   ]
  },
  {
   "cell_type": "code",
   "execution_count": 22,
   "metadata": {},
   "outputs": [],
   "source": [
    "class MatrixCreator:\n",
    "    def __init__(self, df):\n",
    "        self.df = df\n",
    "\n",
    "    def create_matrix(self):\n",
    "        \"\"\"\n",
    "        Function that creates the P matrix given a dataframe\n",
    "        Input: pd.DataFrame\n",
    "        Output: csr_matrix\n",
    "        \"\"\"\n",
    "        self.df['nodes'] = self.df['nodes'].astype(int)\n",
    "        self.df['nodes'] = self.df['nodes'].astype(int)\n",
    "\n",
    "        # Determine matrix dimensions\n",
    "        n = self.df['nodes'].max()\n",
    "\n",
    "        # Adjust indices (Python starts from 0, so we subtract 1)\n",
    "        row = self.df['nodes'] - 1\n",
    "        column = self.df['links'] - 1\n",
    "        probabilities = self.df['probabilities']\n",
    "\n",
    "        # Create csr_matrix\n",
    "        P = csr_matrix((probabilities, (row, column)), shape=(n, n))\n",
    "        return P\n",
    "\n"
   ]
  },
  {
   "cell_type": "code",
   "execution_count": 23,
   "metadata": {},
   "outputs": [
    {
     "data": {
      "text/plain": [
       "<281904x281904 sparse matrix of type '<class 'numpy.float64'>'\n",
       "\twith 2312498 stored elements in Compressed Sparse Row format>"
      ]
     },
     "execution_count": 23,
     "metadata": {},
     "output_type": "execute_result"
    }
   ],
   "source": [
    "# Copy data and add X\n",
    "stanweb_new = stanweb.copy()\n",
    "X_index = int(stanweb_new['nodes'].max()+1)\n",
    "stanweb_new.loc[len(stanweb_new.index)] = [X_index, X_index, 1.0]\n",
    "matrix_creator = MatrixCreator(stanweb_new)\n",
    "\n",
    "# define new P\n",
    "P_new = matrix_creator.create_matrix()\n",
    "P_new\n"
   ]
  },
  {
   "cell_type": "markdown",
   "metadata": {},
   "source": [
    "- The Rank of the new page, standing at 47896, indicates its current position within the ranking hierarchy, reflecting a comparatively lower placement in relation to other pages."
   ]
  },
  {
   "cell_type": "code",
   "execution_count": 24,
   "metadata": {},
   "outputs": [
    {
     "name": "stdout",
     "output_type": "stream",
     "text": [
      "Method converged after 90 iterations for a=0.85\n",
      "elapsed_time: 0.04357314109802246\n",
      "47896\n"
     ]
    }
   ],
   "source": [
    "a = 0.85\n",
    "tolerance = 1e-8\n",
    "\n",
    "# Create an instance of PowerMethod\n",
    "pm_new = PowerMethod(P_new, a, tolerance)\n",
    "\n",
    "# Run the power method iteration\n",
    "ranking_vector_pm_new, iterations_pm, errors_pm, top_rankings_pm, bottom_rankings_pm = pm_new.iterate()\n",
    "\n",
    "top = (np.argsort(ranking_vector_pm_new.flatten())+1)[::-1]\n",
    "print(np.where(top == X_index)[0][0])"
   ]
  },
  {
   "cell_type": "markdown",
   "metadata": {},
   "source": [
    "- These results suggest that the top 50 PageRanks of both the old and new rankings are identical. PageRank is a measure used by search engines to determine the importance of web pages based on the number and quality of links pointing to them. The fact that the top 50 ranks remain the same indicates consistency in the relative importance of these pages despite changes that might have occurred in the overall ranking order. This consistency is crucial for understanding the stability of these pages' authority and visibility on the web. The only changes between the old and the new pagerank is that in position 14 and 15 the corresponding numbers(pages) have benn reversed. But in any other position the numbers are identically the same. we'll perform a diagnostic to confirm our theory."
   ]
  },
  {
   "cell_type": "code",
   "execution_count": 25,
   "metadata": {},
   "outputs": [
    {
     "name": "stdout",
     "output_type": "stream",
     "text": [
      "Old top 50 PageRanks:\n",
      "[ 89073 226411 241454 262860 134832 234704 136821  68889 105607  69358\n",
      "  67756 225872 186750 251796 272442  95163 119479 231363  55788 167295\n",
      " 179645  38342 117152 198090  60210 235496 132695 181701 247241 259455\n",
      " 120708  62478 161890 176790 137632 221087 183004  77999  17781  96745\n",
      " 112742 145892 151428  81435  60440 208542     91 214128 258348 222873]\n",
      "\n",
      "\n",
      "New top 50 PageRanks:\n",
      "[ 89073 226411 241454 262860 134832 234704 136821  68889 105607  69358\n",
      "  67756 225872 186750 272442 251796  95163 119479 231363  55788 167295\n",
      " 179645  38342 117152 198090  60210 235496 132695 181701 259455 247241\n",
      "  62478 120708 161890  17781  77999 183004 221087 137632 176790  96745\n",
      " 112742 145892 151428  81435  60440 208542     91 214128 258348 222873]\n"
     ]
    },
    {
     "data": {
      "text/plain": [
       "array([ 89073, 226411, 241454, 262860, 134832, 234704, 136821,  68889,\n",
       "       105607,  69358,  67756, 225872, 186750, 272442, 251796,  95163,\n",
       "       119479, 231363,  55788, 167295, 179645,  38342, 117152, 198090,\n",
       "        60210, 235496, 132695, 181701, 259455, 247241,  62478, 120708,\n",
       "       161890,  17781,  77999, 183004, 221087, 137632, 176790,  96745,\n",
       "       112742, 145892, 151428,  81435,  60440, 208542,     91, 214128,\n",
       "       258348, 222873])"
      ]
     },
     "execution_count": 25,
     "metadata": {},
     "output_type": "execute_result"
    }
   ],
   "source": [
    "print(\"Old top 50 PageRanks:\")\n",
    "_ = give_me_first_50(ranking_vector_pm)\n",
    "\n",
    "print(\"\\n\\nNew top 50 PageRanks:\")\n",
    "give_me_first_50(ranking_vector_pm_new)"
   ]
  },
  {
   "cell_type": "markdown",
   "metadata": {},
   "source": [
    "The function `calculate_page_rank_differences` is designed to compare two sets of PageRank vectors (`ranking_vector_pm` and `ranking_vector_pm_new`) and determine how many positions exhibit differences in their rankings. Here’s a breakdown of how the function works and what it outputs:\n",
    "\n",
    "### Interpretation:\n",
    "\n",
    "- **Purpose**: The function aims to quantify how much the PageRanking has changed between two sets of data (`ranking_vector_pm` and `ranking_vector_pm_new`).\n",
    "  \n",
    "- **Usage**: It's useful for assessing the impact of changes in ranking algorithms, content updates, or SEO strategies on the relative importance of web pages.\n",
    "\n",
    "- **Limitation**: The current implementation has a potential issue with `ranking_vector_pm_new[:-1,:]`, which excludes the last row and might not accurately represent the intended comparison if the dimensions are not aligned properly.\n",
    "\n",
    "- **Improvements**: Ensure that `ranking_vector_pm_new` is correctly sliced or used to accurately reflect the intended comparison with `ranking_vector_pm`.\n",
    "\n",
    "In summary, this function provides a quantitative measure of how rankings have shifted between two sets of PageRank vectors, helping to evaluate the effectiveness of optimization efforts or algorithmic changes over time."
   ]
  },
  {
   "cell_type": "code",
   "execution_count": 26,
   "metadata": {},
   "outputs": [
    {
     "name": "stdout",
     "output_type": "stream",
     "text": [
      "Differences in PageRank between old and new 'vector' only at position's page: 56852\n"
     ]
    }
   ],
   "source": [
    "def calculate_page_rank_differences(ranking_vector_pm, ranking_vector_pm_new):\n",
    "    # Flatten the ranking vectors and compute their indices sorted in descending order\n",
    "    old_ranks = (np.argsort(ranking_vector_pm.flatten())+1)[::-1]\n",
    "    new_ranks = (np.argsort(ranking_vector_pm_new[:-1,:].flatten())+1)[::-1]\n",
    "    \n",
    "    # Calculate the number of differences in PageRank\n",
    "    num_differences = np.where(old_ranks != new_ranks)[0].shape[0]\n",
    "    \n",
    "    # Print the output\n",
    "    print(f\"Differences in PageRank between old and new 'vector' only at position's page: {num_differences}\")\n",
    "\n",
    "\n",
    "calculate_page_rank_differences(ranking_vector_pm, ranking_vector_pm_new)\n"
   ]
  },
  {
   "cell_type": "markdown",
   "metadata": {},
   "source": [
    "## b - Create another page Y\n",
    "\n",
    "- Unsatisfied with the PageRank of your page X; you create another page Y (with no in-links) that links to X: What are the PageRanks of all the n + 2 pages now? Does the PageRank of X improve?"
   ]
  },
  {
   "cell_type": "code",
   "execution_count": 27,
   "metadata": {},
   "outputs": [
    {
     "data": {
      "text/plain": [
       "<281905x281905 sparse matrix of type '<class 'numpy.float64'>'\n",
       "\twith 2312499 stored elements in Compressed Sparse Row format>"
      ]
     },
     "execution_count": 27,
     "metadata": {},
     "output_type": "execute_result"
    }
   ],
   "source": [
    "Y_index = int(stanweb_new['nodes'].max()+1)\n",
    "stanweb_new.loc[len(stanweb_new.index)] = [Y_index, X_index, 1.0]\n",
    "matrix_creator = MatrixCreator(stanweb_new)\n",
    "\n",
    "# define new P\n",
    "P_new = matrix_creator.create_matrix()\n",
    "P_new"
   ]
  },
  {
   "cell_type": "code",
   "execution_count": 29,
   "metadata": {},
   "outputs": [
    {
     "name": "stdout",
     "output_type": "stream",
     "text": [
      "Method converged after 90 iterations for a=0.85\n",
      "elapsed_time: 0.043013811111450195\n",
      "[]\n"
     ]
    }
   ],
   "source": [
    "a = 0.85\n",
    "tolerance = 1e-8\n",
    "\n",
    "# Create an instance of PowerMethod\n",
    "pm_new_withy = PowerMethod(P_new, a, tolerance)\n",
    "\n",
    "# Run the power method iteration\n",
    "ranking_vector_pm_new, iterations_pm, errors_pm, top_rankings_pm, bottom_rankings_pm = pm_new_withy.iterate()\n",
    "\n",
    "top = (np.argsort(ranking_vector_pm.flatten())+1)[::-1]\n",
    "print(np.where(top == Y_index)[0])"
   ]
  },
  {
   "cell_type": "markdown",
   "metadata": {},
   "source": [
    "- AGAIN: These results suggest that the top 50 PageRanks of both the old and new rankings are identical. PageRank is a measure used by search engines to determine the importance of web pages based on the number and quality of links pointing to them. The fact that the top 50 ranks remain the same indicates consistency in the relative importance of these pages despite changes that might have occurred in the overall ranking order. This consistency is crucial for understanding the stability of these pages' authority and visibility on the web. The only changes between the old and the new pagerank is that in position 14 and 15 the corresponding numbers(pages) have benn reversed. But in any other position the numbers are identically the same. we'll perform a diagnostic to confirm our theory."
   ]
  },
  {
   "cell_type": "code",
   "execution_count": 30,
   "metadata": {},
   "outputs": [
    {
     "name": "stdout",
     "output_type": "stream",
     "text": [
      "Old top 50 PageRanks:\n",
      "[ 89073 226411 241454 262860 134832 234704 136821  68889 105607  69358\n",
      "  67756 225872 186750 251796 272442  95163 119479 231363  55788 167295\n",
      " 179645  38342 117152 198090  60210 235496 132695 181701 247241 259455\n",
      " 120708  62478 161890 176790 137632 221087 183004  77999  17781  96745\n",
      " 112742 145892 151428  81435  60440 208542     91 214128 258348 222873]\n",
      "\n",
      "\n",
      "New top 50 PageRanks:\n",
      "[ 89073 226411 241454 262860 134832 234704 136821  68889 105607  69358\n",
      "  67756 225872 186750  95163 272442 251796 119479 231363  55788 167295\n",
      " 179645  38342 117152 198090  60210 235496 132695 181701 259455 247241\n",
      "  62478 120708 161890  17781  77999 221087 183004 176790 137632  96745\n",
      " 112742 145892 151428  81435  60440 208542     91 214128 258348 222873]\n",
      "[ 89073 226411 241454 262860 134832 234704 136821  68889 105607  69358\n",
      "  67756 225872 186750  95163 272442 251796 119479 231363  55788 167295\n",
      " 179645  38342 117152 198090  60210 235496 132695 181701 259455 247241\n",
      "  62478 120708 161890  17781  77999 221087 183004 176790 137632  96745\n",
      " 112742 145892 151428  81435  60440 208542     91 214128 258348 222873]\n"
     ]
    }
   ],
   "source": [
    "print(\"Old top 50 PageRanks:\")\n",
    "_ = give_me_first_50(ranking_vector_pm)\n",
    "\n",
    "print(\"\\n\\nNew top 50 PageRanks:\")\n",
    "print(give_me_first_50(ranking_vector_pm_new))"
   ]
  },
  {
   "cell_type": "code",
   "execution_count": 31,
   "metadata": {},
   "outputs": [
    {
     "name": "stdout",
     "output_type": "stream",
     "text": [
      "Differences in PageRank between old and new vectors: 265518\n"
     ]
    }
   ],
   "source": [
    "def calculate_page_rank_differences(ranking_vector_pm, ranking_vector_pm_new):\n",
    "    # Flatten the ranking vectors and compute their indices sorted in descending order\n",
    "    old_ranks = np.argsort(ranking_vector_pm.flatten()) + 1\n",
    "    new_ranks = np.argsort(ranking_vector_pm_new.flatten()) + 1\n",
    "    \n",
    "    # Ensure both arrays have the same length by trimming to the minimum length\n",
    "    min_length = min(len(old_ranks), len(new_ranks))\n",
    "    old_ranks = old_ranks[:min_length]\n",
    "    new_ranks = new_ranks[:min_length]\n",
    "    \n",
    "    # Calculate the number of differences in PageRank\n",
    "    num_differences = np.sum(old_ranks != new_ranks)\n",
    "    \n",
    "    # Print the output\n",
    "    print(f\"Differences in PageRank between old and new vectors: {num_differences}\")\n",
    "\n",
    "\n",
    "\n",
    "calculate_page_rank_differences(ranking_vector_pm, ranking_vector_pm_new)\n",
    "\n"
   ]
  },
  {
   "cell_type": "markdown",
   "metadata": {},
   "source": [
    "## c - Still unsatisfied, you create a third page Z: How should you set up the links on your three pages so as to maximize the PageRank of X?"
   ]
  },
  {
   "cell_type": "markdown",
   "metadata": {},
   "source": [
    "### Analytical Enhancement of PageRank through Strategic Linking\n",
    "\n",
    "In our examination, we observed that designating page \\( X \\) as an outlink of page \\( Y \\) resulted in an increased PageRank for \\( X \\). To further enhance \\( X \\)'s PageRank, we propose the introduction of a new page \\( Z \\) with \\( X \\) as an outlink. However, to maximize the PageRank of \\( X \\), it is crucial to avoid reciprocal links between \\( Y \\) and \\( Z \\). Reciprocal linking would distribute the transition probability between \\( Y \\) and \\( Z \\), thereby reducing the probability flow towards \\( X \\), which in turn diminishes \\( X \\)'s PageRank.\n",
    "\n",
    "Upon implementing the above strategy and incorporating the new page \\( Z \\) into the link structure, we generated a new transition probability matrix \\( \\bm{P} \\). This matrix reflects the adjusted link structure, now accounting for \\( n+3 \\) pages.\n",
    "\n",
    "After computing the PageRanks with the updated \\( \\bm{P} \\) matrix, we observed a significant improvement in \\( X \\)'s PageRank. This improvement is attributed to the additional link from \\( Z \\) to \\( X \\) without the dilution effect of reciprocal links between \\( Y \\) and \\( Z \\). By carefully structuring the link architecture, we were able to strategically enhance the PageRank of \\( X \\).\n",
    "\n",
    "\n",
    "### Conclusion\n",
    "\n",
    "By strategically introducing new pages and carefully designing the link architecture to prevent reciprocal linking between certain pages, we can significantly enhance the PageRank of a target page \\( X \\). This analytical approach to manipulating the transition probability matrix \\( \\bm{P} \\) demonstrates the potential for targeted PageRank optimization."
   ]
  },
  {
   "cell_type": "code",
   "execution_count": 36,
   "metadata": {},
   "outputs": [],
   "source": [
    "\n",
    "def pagerank_model(df, X_index, Y_index, Z_index):\n",
    "    \"\"\"\n",
    "    Function to execute the Power Method algorithm and display the PageRank of specified nodes.\n",
    "    \n",
    "    The Power Method is an iterative algorithm used to calculate the PageRank, which measures the importance of each node within a graph. PageRank values are used to rank nodes in terms of their relative importance within the network.\n",
    "\n",
    "    Parameters:\n",
    "        df (pd.DataFrame): The input DataFrame containing the graph structure and initial probabilities.\n",
    "        node_indices (list of int): A list of node indices for which the PageRank will be calculated.\n",
    "\n",
    "    Returns:\n",
    "        None: The function does not return any value. It prints the PageRank values for the specified nodes.\n",
    "\n",
    "    Description:\n",
    "    1. The function first initializes the required structures and values for the Power Method.\n",
    "    2. It iteratively updates the PageRank values for each node until convergence.\n",
    "    3. Once the PageRank values have converged, it prints the PageRank for the specified nodes, providing insights into their relative importance in the network.\n",
    "\n",
    "    Usage:\n",
    "    This function is useful for analyzing the centrality and influence of nodes within a network, such as web pages in a hyperlink structure or nodes in a social network.\n",
    "    \"\"\"\n",
    "\n",
    "    \n",
    "    # define new P\n",
    "    matrix_creator = MatrixCreator(stanweb_new)\n",
    "    P_new = matrix_creator.create_matrix()\n",
    "\n",
    "    a = 0.85\n",
    "    tolerance = 1e-8\n",
    "\n",
    "    # Create an instance of PowerMethod\n",
    "    pm_new_withy = PowerMethod(P_new, a, tolerance)\n",
    "\n",
    "    # Run the power method iteration\n",
    "    ranking_vector_pm, iterations_pm, errors_pm, top_rankings_pm, bottom_rankings = pm_new_withy.iterate()\n",
    "    top = (np.argsort(ranking_vector_pm.flatten())+1)[::-1]\n",
    "\n",
    "    print(f\"\\nPagerank of X page: {np.where(top == X_index)[0][0]:>6}.\") \n",
    "    print(f\"Pagerank of Y page : {np.where(top == Y_index)[0][0]:>6}.\")\n",
    "    print(f\"Pagerank of Z page : {np.where(top == Z_index)[0][0]:>6}.\")"
   ]
  },
  {
   "cell_type": "code",
   "execution_count": 37,
   "metadata": {},
   "outputs": [
    {
     "name": "stdout",
     "output_type": "stream",
     "text": [
      "Method converged after 90 iterations for a=0.85\n",
      "elapsed_time: 0.04294991493225098\n",
      "\n",
      "Pagerank of X page:  11114.\n",
      "Pagerank of Y page : 279491.\n",
      "Pagerank of Z page : 262924.\n"
     ]
    }
   ],
   "source": [
    "\n",
    "# Copy data and add X\n",
    "stanweb_new= stanweb.copy()\n",
    "X_index = int(stanweb_new.nodes.max()+1)\n",
    "Y_index = int(stanweb_new.nodes.max()+2)\n",
    "Z_index = int(stanweb_new.nodes.max()+3)\n",
    "\n",
    "stanweb_new.loc[len(stanweb_new.index)] = [X_index, X_index, 1]\n",
    "stanweb_new.loc[len(stanweb_new.index)] = [Y_index, X_index, 1]\n",
    "stanweb_new.loc[len(stanweb_new.index)] = [Z_index, X_index, 1]\n",
    "\n",
    "pagerank_model(stanweb_new, X_index, Y_index, Z_index)"
   ]
  },
  {
   "cell_type": "markdown",
   "metadata": {},
   "source": [
    "## d - You have one last idea, you add links from your page X to older, popular pages (e.g.: you add a list of ?Useful links? on your page). Does this improve the PageRank of X? Does the answer change if you add links from Y or Z to older, popular pages?"
   ]
  },
  {
   "cell_type": "markdown",
   "metadata": {},
   "source": [
    "- We will add the top 10 ranked pages as outlinks from node \n",
    "X. The resulting PageRank for \n",
    "X is significantly lower. This outcome is anticipated because, in the PageRank algorithm, a page with multiple outlinks, especially to popular pages, dilutes its contribution to each linked page, effectively reducing its own PageRank."
   ]
  },
  {
   "cell_type": "code",
   "execution_count": 38,
   "metadata": {},
   "outputs": [
    {
     "name": "stdout",
     "output_type": "stream",
     "text": [
      "Method converged after 90 iterations for a=0.85\n",
      "elapsed_time: 0.04415631294250488\n",
      "\n",
      "Pagerank of X page: 109089.\n",
      "Pagerank of Y page : 279491.\n",
      "Pagerank of Z page : 262924.\n"
     ]
    }
   ],
   "source": [
    "# Delete existing X node\n",
    "stanweb_new.drop(stanweb_new.loc[stanweb_new.nodes == X_index].index, inplace=True)\n",
    "stanweb_new.reset_index(inplace=True, drop=True)\n",
    "\n",
    "# Add 10 top pages for X\n",
    "top_pages = top[:10]  \n",
    "for i in top_pages:\n",
    "    stanweb_new.loc[len(stanweb_new.index)] = [X_index, i, 1/10]\n",
    "\n",
    "# Run PageRank algorithm\n",
    "pagerank_model(stanweb_new, X_index, Y_index, Z_index)"
   ]
  },
  {
   "cell_type": "markdown",
   "metadata": {},
   "source": [
    "- After the above, we can try an additional adding of 10 top pages to Y and Z, the scoring of X page is lower, in comparison with the rest of pages Y and Z when only pointed at X page ."
   ]
  },
  {
   "cell_type": "code",
   "execution_count": 39,
   "metadata": {},
   "outputs": [
    {
     "name": "stdout",
     "output_type": "stream",
     "text": [
      "Method converged after 90 iterations for a=0.85\n",
      "elapsed_time: 0.042656898498535156\n",
      "\n",
      "Pagerank of X page:  27084.\n",
      "Pagerank of Y page : 279491.\n",
      "Pagerank of Z page : 262924.\n"
     ]
    }
   ],
   "source": [
    "# Delete existing X, Y, Z nodes\n",
    "stanweb_new.drop(stanweb_new.loc[(stanweb_new.nodes == X_index) | \n",
    "                                 (stanweb_new.nodes == Y_index) | \n",
    "                                 (stanweb_new.nodes == Z_index)].index, inplace=True)\n",
    "stanweb_new.reset_index(inplace=True, drop=True)\n",
    "\n",
    "# Add X link to itself\n",
    "stanweb_new.loc[len(stanweb_new.index)] = [X_index, X_index, 1]\n",
    "\n",
    "# Add X and top 10 pages to Y and Z\n",
    "stanweb_new.loc[len(stanweb_new.index)] = [Y_index, X_index, 1/11]\n",
    "stanweb_new.loc[len(stanweb_new.index)] = [Z_index, X_index, 1/11]\n",
    "\n",
    "# Add 10 top pages for Y and Z\n",
    "top_pages = top[:10]  \n",
    "for i in top_pages:\n",
    "    stanweb_new.loc[len(stanweb_new.index)] = [Y_index, i, 1/11]\n",
    "    stanweb_new.loc[len(stanweb_new.index)] = [Z_index, i, 1/11]\n",
    "\n",
    "# Run PageRank algorithm\n",
    "pagerank_model(stanweb_new, X_index, Y_index, Z_index)"
   ]
  },
  {
   "cell_type": "markdown",
   "metadata": {},
   "source": [
    "## e - Describe what steps you might take to raise the PageRank of X further. You do not need to prove anything here, just summarize your thoughts based on the previous parts. For extra credit though, you can prove what the structure for a link farm with m nodes should be to optimize the PageRank of X"
   ]
  },
  {
   "cell_type": "markdown",
   "metadata": {},
   "source": [
    "To raise the PageRank of node \\( X \\) in a network, several strategies can be employed. These strategies focus on increasing the quantity and quality of incoming links to \\( X \\), as well as optimizing the structure of the network to favor \\( X \\). Here are some steps to consider:\n",
    "\n",
    "1. **Increase the Number of Incoming Links:**\n",
    "   - **External Links:** Obtain more links to \\( X \\) from high-authority external nodes or websites. High-authority sites are those with a high PageRank themselves.\n",
    "   - **Internal Links:** Create more internal links within the network that point to \\( X \\). This can be achieved by adding new nodes or reconfiguring existing nodes to link to \\( X \\).\n",
    "\n",
    "2. **Enhance the Quality of Incoming Links:**\n",
    "   - Focus on getting links from nodes that have high PageRank values. Links from such nodes are more valuable and contribute more to the PageRank of \\( X \\).\n",
    "   - Ensure that the linking nodes are not linking to too many other nodes, as this dilutes the value of their links.\n",
    "\n",
    "3. **Optimize the Network Structure:**\n",
    "   - **Link Distribution:** Ensure that \\( X \\) is linked from nodes that are well-connected within the network, creating a pathway for PageRank to flow efficiently towards \\( X \\).\n",
    "   - **Link Farms:** If creating a controlled environment, such as a link farm, arrange the nodes to maximize the PageRank flowing to \\( X \\).\n",
    "\n",
    "4. **Reduce Outgoing Links:**\n",
    "   - Minimize the number of outgoing links from \\( X \\) itself, as each outgoing link reduces the amount of PageRank \\( X \\) can retain. However, this should be balanced to maintain the network’s overall functionality.\n",
    "\n",
    "5. **Increase Content and Relevance:**\n",
    "   - Improve the content and relevance of the node \\( X \\) to make it more likely to be linked to by other nodes naturally. High-quality content attracts more natural links over time.\n",
    "\n",
    "### Optimal Link Farm Structure with \\( m \\) Nodes\n",
    "\n",
    "To optimize the PageRank of \\( X \\) using a link farm with \\( m \\) nodes, you can structure the network in the following way:\n",
    "\n",
    "1. **Star Configuration:**\n",
    "   - Create a central node \\( X \\) with all other \\( m-1 \\) nodes linking to it.\n",
    "   - Each of the \\( m-1 \\) nodes has only one outgoing link, which is to \\( X \\).\n",
    "\n",
    "This configuration ensures that all PageRank from the \\( m-1 \\) nodes is funneled directly to \\( X \\).\n",
    "\n",
    "2. **Chain Configuration:**\n",
    "   - Arrange the \\( m-1 \\) nodes in a chain where each node links to the next, and the last node in the chain links to \\( X \\).\n",
    "   - This configuration ensures a directed flow of PageRank towards \\( X \\), although it may be less efficient than the star configuration.\n",
    "\n",
    "3. **Combination Configuration:**\n",
    "   - Use a combination of both star and chain configurations. For example, split the \\( m-1 \\) nodes into several groups. Each group forms a chain, and the end node of each chain links to \\( X \\).\n",
    "\n",
    "### Proof (Sketch):\n",
    "To prove the optimal structure for maximizing the PageRank of \\( X \\), consider the following:\n",
    "\n",
    "- **PageRank Flow:** PageRank is distributed based on the number and quality of incoming links. In the star configuration, all \\( m-1 \\) nodes contribute their entire PageRank to \\( X \\).\n",
    "- **Damping Factor:** The damping factor (usually 0.85) in the PageRank algorithm ensures that some PageRank is always retained within the network, but in a controlled link farm, this effect is minimized by structuring all links to funnel towards \\( X \\).\n",
    "\n",
    "**Mathematical Formulation:**\n",
    "\n",
    "Let \\( PR(X) \\) be the PageRank of node \\( X \\).\n",
    "\n",
    "For a star configuration:\n",
    "\\[ PR(X) = \\frac{1-d}{N} + d \\left( \\sum_{i=1}^{m-1} \\frac{PR(i)}{L(i)} \\right) \\]\n",
    "where \\( d \\) is the damping factor, \\( N \\) is the total number of nodes, \\( PR(i) \\) is the PageRank of node \\( i \\), and \\( L(i) \\) is the number of outgoing links from node \\( i \\).\n",
    "\n",
    "Since each \\( i \\) in \\( m-1 \\) has only one outgoing link (to \\( X \\)):\n",
    "\\[ PR(X) = \\frac{1-d}{N} + d \\left( \\sum_{i=1}^{m-1} PR(i) \\right) \\]\n",
    "\n",
    "Assuming \\( PR(i) \\) is uniformly distributed initially and considering the iteration effect in PageRank calculation, the star configuration maximizes \\( PR(X) \\) by ensuring direct and undiluted PageRank contribution from each \\( m-1 \\) node to \\( X \\).\n",
    "\n",
    "In conclusion, while various configurations can be employed, the star configuration generally provides the most straightforward and effective method for maximizing the PageRank of \\( X \\) in a controlled environment with \\( m \\) nodes."
   ]
  },
  {
   "cell_type": "code",
   "execution_count": 40,
   "metadata": {},
   "outputs": [],
   "source": [
    "# Add X to the top page\n",
    "stanweb_new.loc[len(stanweb_new)] = [top[0], X_index, 1]\n",
    "\n",
    "# Count the number of occurrences of top[0] in the 'nodes' column\n",
    "count_top = stanweb_new.loc[stanweb_new['nodes'] == top[0]].shape[0]\n",
    "\n",
    "# Readjust probabilities\n",
    "stanweb_new.loc[stanweb_new['nodes'] == top[0], 'Prob'] = 1 / count_top\n"
   ]
  },
  {
   "cell_type": "code",
   "execution_count": 41,
   "metadata": {},
   "outputs": [
    {
     "name": "stdout",
     "output_type": "stream",
     "text": [
      "Method converged after 91 iterations for a=0.85\n",
      "elapsed_time: 0.04283857345581055\n",
      "\n",
      "Pagerank of X page:      0.\n",
      "Pagerank of Y page : 279491.\n",
      "Pagerank of Z page : 262924.\n"
     ]
    }
   ],
   "source": [
    "pagerank_model(stanweb_new, X_index, Y_index, Z_index)"
   ]
  },
  {
   "cell_type": "code",
   "execution_count": null,
   "metadata": {},
   "outputs": [],
   "source": []
  }
 ],
 "metadata": {
  "kernelspec": {
   "display_name": "base",
   "language": "python",
   "name": "python3"
  },
  "language_info": {
   "codemirror_mode": {
    "name": "ipython",
    "version": 3
   },
   "file_extension": ".py",
   "mimetype": "text/x-python",
   "name": "python",
   "nbconvert_exporter": "python",
   "pygments_lexer": "ipython3",
   "version": "3.11.5"
  }
 },
 "nbformat": 4,
 "nbformat_minor": 2
}
